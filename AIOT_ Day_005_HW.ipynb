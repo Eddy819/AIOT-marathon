{
 "cells": [
  {
   "cell_type": "markdown",
   "metadata": {},
   "source": [
    "# 作業一"
   ]
  },
  {
   "cell_type": "markdown",
   "metadata": {},
   "source": [
    "練習使用一個民生物聯網 API，例如空氣、地震等感測站所回傳的紀錄資料。"
   ]
  },
  {
   "cell_type": "code",
   "execution_count": 1,
   "metadata": {},
   "outputs": [
    {
     "name": "stdout",
     "output_type": "stream",
     "text": [
      "{'value': [{'name': 'Datastreams',\n",
      "            'url': 'https://sta.ci.taiwan.gov.tw/STA_Rain/v1.0/Datastreams'},\n",
      "           {'name': 'MultiDatastreams',\n",
      "            'url': 'https://sta.ci.taiwan.gov.tw/STA_Rain/v1.0/MultiDatastreams'},\n",
      "           {'name': 'FeaturesOfInterest',\n",
      "            'url': 'https://sta.ci.taiwan.gov.tw/STA_Rain/v1.0/FeaturesOfInterest'},\n",
      "           {'name': 'HistoricalLocations',\n",
      "            'url': 'https://sta.ci.taiwan.gov.tw/STA_Rain/v1.0/HistoricalLocations'},\n",
      "           {'name': 'Locations',\n",
      "            'url': 'https://sta.ci.taiwan.gov.tw/STA_Rain/v1.0/Locations'},\n",
      "           {'name': 'Observations',\n",
      "            'url': 'https://sta.ci.taiwan.gov.tw/STA_Rain/v1.0/Observations'},\n",
      "           {'name': 'ObservedProperties',\n",
      "            'url': 'https://sta.ci.taiwan.gov.tw/STA_Rain/v1.0/ObservedProperties'},\n",
      "           {'name': 'Sensors',\n",
      "            'url': 'https://sta.ci.taiwan.gov.tw/STA_Rain/v1.0/Sensors'},\n",
      "           {'name': 'Things',\n",
      "            'url': 'https://sta.ci.taiwan.gov.tw/STA_Rain/v1.0/Things'}]}\n"
     ]
    }
   ],
   "source": [
    "import requests\n",
    "import json\n",
    "import pprint\n",
    "\n",
    "url = \"https://sta.ci.taiwan.gov.tw/STA_Rain/v1.0/\"\n",
    "r = requests.get(url)\n",
    "result = r.json()\n",
    "pprint.pprint(result)"
   ]
  },
  {
   "cell_type": "markdown",
   "metadata": {},
   "source": [
    "# 作業二"
   ]
  },
  {
   "cell_type": "markdown",
   "metadata": {},
   "source": [
    "練習操作OGC SensorThings API，將環保局測站位置的資料抓取下來，並且觀察下載資料的內容，參考網址為https://sta.ci.taiwan.gov.tw/STA_AirQuality_EPAIoT/v1.0/Things"
   ]
  },
  {
   "cell_type": "code",
   "execution_count": 7,
   "metadata": {},
   "outputs": [
    {
     "name": "stdout",
     "output_type": "stream",
     "text": [
      "{'@iot.id': 1,\n",
      " '@iot.selfLink': 'https://sta.ci.taiwan.gov.tw/STA_AirQuality_EPAIoT/v1.0/Things(1)',\n",
      " 'Datastreams@iot.navigationLink': 'https://sta.ci.taiwan.gov.tw/STA_AirQuality_EPAIoT/v1.0/Things(1)/Datastreams',\n",
      " 'HistoricalLocations@iot.navigationLink': 'https://sta.ci.taiwan.gov.tw/STA_AirQuality_EPAIoT/v1.0/Things(1)/HistoricalLocations',\n",
      " 'Locations@iot.navigationLink': 'https://sta.ci.taiwan.gov.tw/STA_AirQuality_EPAIoT/v1.0/Things(1)/Locations',\n",
      " 'MultiDatastreams@iot.navigationLink': 'https://sta.ci.taiwan.gov.tw/STA_AirQuality_EPAIoT/v1.0/Things(1)/MultiDatastreams',\n",
      " 'TaskingCapabilities@iot.navigationLink': 'https://sta.ci.taiwan.gov.tw/STA_AirQuality_EPAIoT/v1.0/Things(1)/TaskingCapabilities',\n",
      " 'description': '智慧城鄉空品微型感測器-11113765144',\n",
      " 'name': '智慧城鄉空品微型感測器-11113765144',\n",
      " 'properties': {'Description': '廣域SAQ-210',\n",
      "                'areaDescription': '七堵區',\n",
      "                'areaType': '一般社區',\n",
      "                'authority': '行政院環境保護署',\n",
      "                'city': '基隆市',\n",
      "                'isDisplay': 'true',\n",
      "                'isMobile': 'false',\n",
      "                'isOutdoor': 'true',\n",
      "                'locationId': 'TW020201D0506810',\n",
      "                'stationID': '11113765144',\n",
      "                'township': '七堵區'}}\n"
     ]
    }
   ],
   "source": [
    "url = \"https://sta.ci.taiwan.gov.tw/STA_AirQuality_EPAIoT/v1.0/Things\"\n",
    "r = requests.get(url)\n",
    "result = r.json()\n",
    "pprint.pprint(result['value'][0])"
   ]
  },
  {
   "cell_type": "markdown",
   "metadata": {},
   "source": [
    "# 作業三"
   ]
  },
  {
   "cell_type": "markdown",
   "metadata": {},
   "source": [
    "依據作業 2 所下載的各個環保局測站感測器的描述資料，進一步點選 Datastreams、Locations，以及 Datastreams 點選進入後，點選 Observations 的 URL，觀察所下載到的資料內容，其中 Observations 內部是否包含個別感測器紀錄的資料。"
   ]
  },
  {
   "cell_type": "code",
   "execution_count": 11,
   "metadata": {},
   "outputs": [
    {
     "name": "stdout",
     "output_type": "stream",
     "text": [
      "{'@iot.id': 3,\n",
      " '@iot.selfLink': 'https://sta.ci.taiwan.gov.tw/STA_AirQuality_EPAIoT/v1.0/Datastreams(3)',\n",
      " 'Observations@iot.navigationLink': 'https://sta.ci.taiwan.gov.tw/STA_AirQuality_EPAIoT/v1.0/Datastreams(3)/Observations',\n",
      " 'ObservedProperty@iot.navigationLink': 'https://sta.ci.taiwan.gov.tw/STA_AirQuality_EPAIoT/v1.0/Datastreams(3)/ObservedProperty',\n",
      " 'Sensor@iot.navigationLink': 'https://sta.ci.taiwan.gov.tw/STA_AirQuality_EPAIoT/v1.0/Datastreams(3)/Sensor',\n",
      " 'Thing@iot.navigationLink': 'https://sta.ci.taiwan.gov.tw/STA_AirQuality_EPAIoT/v1.0/Datastreams(3)/Thing',\n",
      " 'description': '溫度',\n",
      " 'name': 'Temperature',\n",
      " 'observationType': 'http://www.opengis.net/def/observationType/OGC-OM/2.0/OM_Measurement',\n",
      " 'observedArea': {'coordinates': [121.687045, 25.111078], 'type': 'Point'},\n",
      " 'phenomenonTime': '2021-08-20T02:01:12.000Z/2021-08-20T06:37:12.000Z',\n",
      " 'resultTime': None,\n",
      " 'unitOfMeasurement': {'definition': 'https://en.wikipedia.org/wiki/Celsius',\n",
      "                       'name': 'degree celsius',\n",
      "                       'symbol': '°C'}}\n"
     ]
    }
   ],
   "source": [
    "url = \"https://sta.ci.taiwan.gov.tw/STA_AirQuality_EPAIoT/v1.0/Things(1)/Datastreams\"\n",
    "r = requests.get(url)\n",
    "result = r.json()\n",
    "pprint.pprint(result['value'][0])"
   ]
  },
  {
   "cell_type": "code",
   "execution_count": 12,
   "metadata": {},
   "outputs": [
    {
     "name": "stdout",
     "output_type": "stream",
     "text": [
      "{'@iot.id': 1,\n",
      " '@iot.selfLink': 'https://sta.ci.taiwan.gov.tw/STA_AirQuality_EPAIoT/v1.0/Locations(1)',\n",
      " 'HistoricalLocations@iot.navigationLink': 'https://sta.ci.taiwan.gov.tw/STA_AirQuality_EPAIoT/v1.0/Locations(1)/HistoricalLocations',\n",
      " 'Things@iot.navigationLink': 'https://sta.ci.taiwan.gov.tw/STA_AirQuality_EPAIoT/v1.0/Locations(1)/Things',\n",
      " 'description': '智慧城鄉空品微型感測器-11113765144',\n",
      " 'encodingType': 'application/vnd.geo+json',\n",
      " 'location': {'coordinates': [121.687045, 25.111078], 'type': 'Point'},\n",
      " 'name': '智慧城鄉空品微型感測器-11113765144'}\n"
     ]
    }
   ],
   "source": [
    "url = \"https://sta.ci.taiwan.gov.tw/STA_AirQuality_EPAIoT/v1.0/Things(1)/Locations\"\n",
    "r = requests.get(url)\n",
    "result = r.json()\n",
    "pprint.pprint(result['value'][0])"
   ]
  },
  {
   "cell_type": "code",
   "execution_count": 10,
   "metadata": {},
   "outputs": [
    {
     "name": "stdout",
     "output_type": "stream",
     "text": [
      "{'@iot.id': 1893427389,\n",
      " '@iot.selfLink': 'https://sta.ci.taiwan.gov.tw/STA_AirQuality_EPAIoT/v1.0/Observations(1893427389)',\n",
      " 'Datastream@iot.navigationLink': 'https://sta.ci.taiwan.gov.tw/STA_AirQuality_EPAIoT/v1.0/Observations(1893427389)/Datastream',\n",
      " 'FeatureOfInterest@iot.navigationLink': 'https://sta.ci.taiwan.gov.tw/STA_AirQuality_EPAIoT/v1.0/Observations(1893427389)/FeatureOfInterest',\n",
      " 'MultiDatastream@iot.navigationLink': 'https://sta.ci.taiwan.gov.tw/STA_AirQuality_EPAIoT/v1.0/Observations(1893427389)/MultiDatastream',\n",
      " 'phenomenonTime': '2021-08-20T02:01:12.000Z',\n",
      " 'result': 2.0,\n",
      " 'resultTime': None}\n"
     ]
    }
   ],
   "source": [
    "url = \"https://sta.ci.taiwan.gov.tw/STA_AirQuality_EPAIoT/v1.0/Datastreams(1)/Observations\"\n",
    "r = requests.get(url)\n",
    "result = r.json()\n",
    "pprint.pprint(result['value'][0])"
   ]
  },
  {
   "cell_type": "code",
   "execution_count": null,
   "metadata": {},
   "outputs": [],
   "source": []
  }
 ],
 "metadata": {
  "kernelspec": {
   "display_name": "Python 3",
   "language": "python",
   "name": "python3"
  },
  "language_info": {
   "codemirror_mode": {
    "name": "ipython",
    "version": 3
   },
   "file_extension": ".py",
   "mimetype": "text/x-python",
   "name": "python",
   "nbconvert_exporter": "python",
   "pygments_lexer": "ipython3",
   "version": "3.8.5"
  }
 },
 "nbformat": 4,
 "nbformat_minor": 4
}
