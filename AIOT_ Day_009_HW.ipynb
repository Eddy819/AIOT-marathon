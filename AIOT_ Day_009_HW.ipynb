{
 "cells": [
  {
   "cell_type": "markdown",
   "metadata": {},
   "source": [
    "# 作業一\n",
    "* 建立 DB 及 Collection (名稱自訂)，使用 Python 取得連線。"
   ]
  },
  {
   "cell_type": "code",
   "execution_count": 1,
   "metadata": {},
   "outputs": [],
   "source": [
    "from pymongo import MongoClient"
   ]
  },
  {
   "cell_type": "code",
   "execution_count": 10,
   "metadata": {},
   "outputs": [
    {
     "name": "stdout",
     "output_type": "stream",
     "text": [
      "{'_id': ObjectId('6153e56fb3f6eb32ab1fdb01'), 'name': 'Cathy', 'email': 'test@abc.com', 'phone': '0912345678', 'age': 25.0}\n",
      "{'_id': ObjectId('615413c4177f8328a4e3d4f2'), 'name': 'Abby', 'email': 'test@abc.com', 'phone': '0987654321', 'age': 25.0}\n"
     ]
    }
   ],
   "source": [
    "# 和 mongo 取得連線\n",
    "client = MongoClient(host='127.0.0.1', port=8088)\n",
    "\n",
    "# 和資料庫取得連線\n",
    "db = client['newdb']\n",
    "\n",
    "# 和資料集取得連線\n",
    "collection = db['Member']\n",
    "\n",
    "# 查找\n",
    "result = collection.find()\n",
    "for x in result:\n",
    "    print(x)"
   ]
  },
  {
   "cell_type": "markdown",
   "metadata": {},
   "source": [
    "# 作業二\n",
    "* 使用 Python 操作 Mongo 中的資料。"
   ]
  },
  {
   "cell_type": "code",
   "execution_count": 15,
   "metadata": {},
   "outputs": [
    {
     "name": "stdout",
     "output_type": "stream",
     "text": [
      "{'_id': ObjectId('6153e56fb3f6eb32ab1fdb01'), 'name': 'Cathy', 'email': 'test@abc.com', 'phone': '0912345678', 'age': 25.0}\n",
      "{'_id': ObjectId('615413c4177f8328a4e3d4f2'), 'name': 'Abby', 'email': 'test@abc.com', 'phone': '0987654321', 'age': 25.0}\n",
      "{'_id': ObjectId('61541926b14ad20d4ed4a32e'), 'name': 'Bob', 'email': 'test_bob@abc.com', 'phone': '0956831581', 'age': 28.0}\n"
     ]
    }
   ],
   "source": [
    "# 新增\n",
    "collection.insert_one({'name': 'Bob', 'email': 'test_bob@abc.com', 'phone': '0956831581', 'age': 28.0})\n",
    "\n",
    "result = collection.find()\n",
    "for x in result:\n",
    "    print(x)"
   ]
  },
  {
   "cell_type": "code",
   "execution_count": 19,
   "metadata": {},
   "outputs": [
    {
     "name": "stdout",
     "output_type": "stream",
     "text": [
      "{'_id': ObjectId('6153e56fb3f6eb32ab1fdb01'), 'name': 'Cathy', 'email': 'test@abc.com', 'phone': '0912345678', 'age': 25.0}\n",
      "{'_id': ObjectId('61541926b14ad20d4ed4a32e'), 'name': 'Bob', 'email': 'test_bob@abc.com', 'phone': '0956831581', 'age': 28.0}\n"
     ]
    }
   ],
   "source": [
    "# 刪除\n",
    "collection.delete_one({'name': 'Abby'})\n",
    "\n",
    "result = collection.find()\n",
    "for x in result:\n",
    "    print(x)"
   ]
  },
  {
   "cell_type": "code",
   "execution_count": 20,
   "metadata": {},
   "outputs": [
    {
     "name": "stdout",
     "output_type": "stream",
     "text": [
      "{'_id': ObjectId('6153e56fb3f6eb32ab1fdb01'), 'name': 'Cathy', 'email': 'test_cathy@abc.com', 'phone': '0912345678', 'age': 25.0}\n",
      "{'_id': ObjectId('61541926b14ad20d4ed4a32e'), 'name': 'Bob', 'email': 'test_bob@abc.com', 'phone': '0956831581', 'age': 28.0}\n"
     ]
    }
   ],
   "source": [
    "# 修改\n",
    "filter_ = {'name': 'Cathy'}\n",
    "update_ = {\"$set\": {'email': 'test_cathy@abc.com'}}\n",
    "collection.update_one(filter_, update_)\n",
    "\n",
    "result = collection.find()\n",
    "for x in result:\n",
    "    print(x)"
   ]
  }
 ],
 "metadata": {
  "kernelspec": {
   "display_name": "Python 3",
   "language": "python",
   "name": "python3"
  },
  "language_info": {
   "codemirror_mode": {
    "name": "ipython",
    "version": 3
   },
   "file_extension": ".py",
   "mimetype": "text/x-python",
   "name": "python",
   "nbconvert_exporter": "python",
   "pygments_lexer": "ipython3",
   "version": "3.8.5"
  }
 },
 "nbformat": 4,
 "nbformat_minor": 4
}
