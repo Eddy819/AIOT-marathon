{
 "cells": [
  {
   "cell_type": "markdown",
   "metadata": {},
   "source": [
    "# 作業一\n",
    "* 請思考使用 YOLO 和 tinyYOLO 進行訓練時，他們之間需要調整的差異在哪裡？"
   ]
  },
  {
   "cell_type": "markdown",
   "metadata": {},
   "source": [
    "不管是yolo或tiny-yolo的cfg 檔，都是要對 classes 和 filters 做修改，但使用 sed 修改時需要指定正確的列數，因為classes 和 filters 等參數在兩個 cfg 檔中的位置不同。"
   ]
  },
  {
   "cell_type": "markdown",
   "metadata": {},
   "source": [
    "# 作業二\n",
    "* 請思考當我們要訓練一個 7 個 class 的 tiny_yolo 時，要如何設定 cfg 檔？"
   ]
  },
  {
   "cell_type": "code",
   "execution_count": null,
   "metadata": {},
   "outputs": [],
   "source": [
    "!sed -i '135 s@classes=80@classes=7@' cfg/yolov3_training.cfg\n",
    "!sed -i '177 s@classes=80@classes=7@' cfg/yolov3_training.cfg\n",
    "!sed -i '127 s@filters=255@filters=36@' cfg/yolov3_training.cfg\n",
    "!sed -i '171 s@filters=255@filters=36@' cfg/yolov3_training.cfg"
   ]
  }
 ],
 "metadata": {
  "kernelspec": {
   "display_name": "Python 3",
   "language": "python",
   "name": "python3"
  },
  "language_info": {
   "codemirror_mode": {
    "name": "ipython",
    "version": 3
   },
   "file_extension": ".py",
   "mimetype": "text/x-python",
   "name": "python",
   "nbconvert_exporter": "python",
   "pygments_lexer": "ipython3",
   "version": "3.8.5"
  }
 },
 "nbformat": 4,
 "nbformat_minor": 4
}
