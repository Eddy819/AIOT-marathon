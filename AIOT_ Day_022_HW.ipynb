{
 "cells": [
  {
   "cell_type": "markdown",
   "metadata": {},
   "source": [
    "# 作業一\n",
    "* 請問我們要使用 ArgumentParser 的哪一個方法來新增一個參數?"
   ]
  },
  {
   "cell_type": "markdown",
   "metadata": {},
   "source": [
    "add_argument('name_of_argument')"
   ]
  },
  {
   "cell_type": "code",
   "execution_count": 5,
   "metadata": {},
   "outputs": [
    {
     "name": "stdout",
     "output_type": "stream",
     "text": [
      "我的名字是: Eddy, 學號是: 269\n"
     ]
    }
   ],
   "source": [
    "!python argparse_practice.py --name \"Eddy\" --id \"269\""
   ]
  },
  {
   "cell_type": "markdown",
   "metadata": {},
   "source": [
    "# 作業二\n",
    "* 在使用 YOLO 的推論程序 darknet detector test 時，我們需要指定那些參數？"
   ]
  },
  {
   "cell_type": "markdown",
   "metadata": {},
   "source": [
    "1.類別設定檔\n",
    "=> XXX.data\n",
    "\n",
    "2.模型架構\n",
    "=> XXX.cfg\n",
    "\n",
    "3.模型權重\n",
    "=> XXX.weights"
   ]
  },
  {
   "cell_type": "code",
   "execution_count": null,
   "metadata": {},
   "outputs": [],
   "source": []
  }
 ],
 "metadata": {
  "kernelspec": {
   "display_name": "Python 3",
   "language": "python",
   "name": "python3"
  },
  "language_info": {
   "codemirror_mode": {
    "name": "ipython",
    "version": 3
   },
   "file_extension": ".py",
   "mimetype": "text/x-python",
   "name": "python",
   "nbconvert_exporter": "python",
   "pygments_lexer": "ipython3",
   "version": "3.8.5"
  }
 },
 "nbformat": 4,
 "nbformat_minor": 4
}
